{
 "cells": [
  {
   "cell_type": "markdown",
   "source": [
    "# KNN (K-Nearest Neighbors, K-근접 이웃 알고리즘)\n",
    "- ML 알고리즘 중에서도 분류 및 회귀 문제에 인기있는 지도학습 모델\n",
    "- Distance 함수, voting 시스템 등을 이해하기 최적의 알고리즘임\n",
    "- 본 실습에서는 classification(분류) 문제에 초점을 맞추고 진행할 예정\n",
    "\n",
    "### 알고리즘 overview\n",
    "- feature 공간 상에서 가장 가까운 'k' 개의 이웃 중 입력되는 데이터의 클래스를 결정하는 voting 시스템\n",
    "- 예를 들어 아래와 같이 포도와 배를 roundness(둥근 정도) 및 diameter(지름) 두가지 feature로 plot 되어 있다고 가정\n",
    "- 새로운 과일(붉은색 점)이 주어졌을 때 이와 가장 가까운 k 지점까지 거리를 계산하여 어떤 과일일지 결정\n",
    "- 예시에서 가장 가까운 3개 점을 측정하면 모두 배(pear)라 할 수 있으므로 새로운 과일도 배라고 판단할 수 있음\n",
    "![knn_example](knn_example.png)\n",
    "\n",
    "### 알고리즘 동작방식\n",
    "**알고리즘 동작 순서**\n",
    "1. k값 선정: k 값을 선정하여 알고리즘의 가장 가까운 이웃의 수로 사용 (하이퍼 파라미터로 튜닝 필요)\n",
    "2. 거리 계산: 주어진 데이터 포인트에 대해 모든 학습 데이터 포인트까지 거리(유클리드 거리 등)를 계산함\n",
    "3. k nearest neighbor 찾기: 계산된 거리에 기반해 k개의 최근접 이웃 데이터 포인트를 찾아냄\n",
    "4. Majority class 결정: k개 최근접 이웃 중 가장 많은 수의 클래스를 선정\n",
    "5. 예측값 선정: majority class 가 선정된 후 이를 해당 테스트 데이터 포인트의 class로 지정\n",
    "6. 모든 테스트 데이터 포인트에 대해 이를 반복 (2 - 5)\n",
    "- KNN의 경우 데이터셋에 대해 직접적인 학습은 진행하지 않으나 모든 학습 데이터를 메모리에 저장 후 예측에 사용함\n",
    "\n",
    "### Distance Metric (거리측정 척도)\n",
    "- Scikit learn의 경우 'minkowski' 를 기본 거리 측도로 사용 (여기서는 유클리드 거리)\n",
    "\n",
    "$$\n",
    "d(x^{(i)}, x^{(j)}) = \\left(\\sum_k \\left| x_k^{(i)} - x_k^{(j)} \\right|^p\\right)^{1/p}\n",
    "$$\n",
    "\n",
    "- $l$2 distance (Euclidean distance): $d(x_1, x_2) = \\left(\\sum_{i=1}^n |x_1 - x_2|^2\\right)^{1/2}$\n",
    "![euclidean](euclidean.png)\n",
    "\n",
    "- $l$1 distance: $d(x_1, x_2) = \\sum_{i=1}^n |x_1 - x_2|$\n"
   ],
   "metadata": {
    "collapsed": false
   }
  },
  {
   "cell_type": "code",
   "execution_count": 1,
   "metadata": {
    "collapsed": true,
    "ExecuteTime": {
     "end_time": "2023-07-10T03:23:40.427658Z",
     "start_time": "2023-07-10T03:23:09.941444Z"
    }
   },
   "outputs": [],
   "source": [
    "import numpy as np\n",
    "import pandas as pd\n",
    "from matplotlib import pyplot as plt"
   ]
  },
  {
   "cell_type": "markdown",
   "source": [
    "## Toy example\n",
    "\n",
    "### - make_blobs 함수를 이용한 toy example 생성"
   ],
   "metadata": {
    "collapsed": false
   }
  },
  {
   "cell_type": "code",
   "execution_count": null,
   "outputs": [],
   "source": [
    "from sklearn.datasets import make_blobs\n",
    "# Toy example 생성\n",
    "X, y = make_blobs(n_samples=100, n_features=2, centers=[[2,2],[-2,-2]], cluster_std=2.0, random_state=0)\n",
    "# X, y = make_blobs(n_samples=100, n_features=2, centers=2, cluster_std=1.0)\n",
    "\n",
    "# Plot the generated dataset\n",
    "plt.scatter(X[:, 0], X[:, 1], c=y, cmap='coolwarm')\n",
    "plt.xlabel('x1')\n",
    "plt.ylabel('x2')\n",
    "plt.title('Toy Example Dataset')\n",
    "plt.legend()\n",
    "plt.show()"
   ],
   "metadata": {
    "collapsed": false,
    "ExecuteTime": {
     "start_time": "2023-07-08T16:55:41.142723Z",
     "end_time": "2023-07-08T16:55:42.008051Z"
    }
   }
  },
  {
   "cell_type": "markdown",
   "source": [
    "## Toy example KNN 학습 및 평가"
   ],
   "metadata": {
    "collapsed": false
   }
  },
  {
   "cell_type": "code",
   "execution_count": null,
   "outputs": [],
   "source": [
    "from sklearn.neighbors import KNeighborsClassifier\n",
    "from sklearn.model_selection import train_test_split\n",
    "from sklearn.metrics import accuracy_score"
   ],
   "metadata": {
    "collapsed": false,
    "ExecuteTime": {
     "start_time": "2023-07-08T16:55:43.451556Z",
     "end_time": "2023-07-08T16:55:44.389621Z"
    }
   }
  },
  {
   "cell_type": "code",
   "execution_count": null,
   "outputs": [],
   "source": [
    "# 학습 데이터셋/평가 데이터셋 분리\n",
    "X_train, X_test, y_train, y_test = train_test_split(X, y, test_size=0.2, random_state=42)"
   ],
   "metadata": {
    "collapsed": false,
    "ExecuteTime": {
     "start_time": "2023-07-08T16:55:48.158254Z",
     "end_time": "2023-07-08T16:55:48.167349Z"
    }
   }
  },
  {
   "cell_type": "code",
   "execution_count": null,
   "outputs": [],
   "source": [
    "# knn 모델 학습 (k=3 으로 설정)\n",
    "knn = KNeighborsClassifier(n_neighbors=3)\n",
    "knn.fit(X_train, y_train)\n",
    "\n",
    "# 학습된 knn 모델 평\n",
    "y_pred = knn.predict(X_test)\n",
    "accuracy = accuracy_score(y_test, y_pred)\n",
    "print(\"Accuracy:\", accuracy)"
   ],
   "metadata": {
    "collapsed": false,
    "ExecuteTime": {
     "start_time": "2023-07-08T16:55:54.665580Z",
     "end_time": "2023-07-08T16:55:54.676545Z"
    }
   }
  },
  {
   "cell_type": "markdown",
   "source": [
    "## 붓꽃 데이터를 이용한 학습 / 평가"
   ],
   "metadata": {
    "collapsed": false
   }
  },
  {
   "cell_type": "code",
   "execution_count": null,
   "outputs": [],
   "source": [
    "from sklearn import datasets\n",
    "from sklearn import neighbors\n",
    "from sklearn.pipeline import Pipeline\n",
    "from sklearn.preprocessing import StandardScaler\n",
    "\n",
    "# iris data load, 꽃잎 길이와 너비 출력\n",
    "iris = datasets.load_iris()\n",
    "X = iris['data'][:, (2,3)]\n",
    "y = (iris['target'] == 2).astype(np.float64)\n",
    "\n",
    "# 학습/테스트 데이터셋 분리\n",
    "X_train, X_test, y_train, y_test = train_test_split(X, y, test_size=0.2, random_state=42)\n"
   ],
   "metadata": {
    "collapsed": false,
    "ExecuteTime": {
     "start_time": "2023-07-08T16:59:56.425924Z",
     "end_time": "2023-07-08T16:59:56.435257Z"
    }
   }
  },
  {
   "cell_type": "code",
   "execution_count": null,
   "outputs": [],
   "source": [
    "# KNN 모델\n",
    "knn_clf = Pipeline([(\"scaler\", StandardScaler()), (\"linear_svc\", KNeighborsClassifier(n_neighbors=5, metric='minkowski'))])\n",
    "# KNN 학습\n",
    "knn_clf.fit(X_train,y_train)\n",
    "# 예측\n",
    "y_pred = knn_clf.predict(X_test)\n",
    "accuracy = accuracy_score(y_test, y_pred)\n",
    "print(f\"accuracy: {accuracy}\")"
   ],
   "metadata": {
    "collapsed": false,
    "ExecuteTime": {
     "start_time": "2023-07-08T17:00:59.908654Z",
     "end_time": "2023-07-08T17:00:59.912294Z"
    }
   }
  },
  {
   "cell_type": "markdown",
   "source": [
    "## 실습 문제\n",
    "#### - KNNClassifier를 사용하여 저번 실습 시간에 사용한 HCI 데이터셋 분류 문제 풀어보기"
   ],
   "metadata": {
    "collapsed": false
   }
  },
  {
   "cell_type": "code",
   "execution_count": null,
   "outputs": [],
   "source": [
    "def get_new_feature_name_df(old_feature_name_df):\n",
    "    feature_dup_df = pd.DataFrame(data=old_feature_name_df.groupby('column_name').cumcount(),\n",
    "                                  columns=['dup_cnt'])\n",
    "    feature_dup_df = feature_dup_df.reset_index()\n",
    "    new_feature_name_df = pd.merge(old_feature_name_df.reset_index(), feature_dup_df, how='outer')\n",
    "    new_feature_name_df['column_name'] = new_feature_name_df[['column_name', 'dup_cnt']].apply(lambda x : x[0]+'_'+str(x[1])\n",
    "                                                                                         if x[1] >0 else x[0] ,  axis=1)\n",
    "    new_feature_name_df = new_feature_name_df.drop(['index'], axis=1)\n",
    "    return new_feature_name_df\n",
    "\n",
    "def get_human_dataset( ):\n",
    "    # 각 데이터 파일들은 공백으로 분리되어 있으므로 read_csv에서 공백 문자를 sep으로 할당.\n",
    "    feature_name_df = pd.read_csv('../../human_activity/features.txt',sep='\\s+',\n",
    "                        header=None,names=['column_index','column_name'])\n",
    "\n",
    "    # 중복된 피처명을 수정하는 get_new_feature_name_df()를 이용, 신규 피처명 DataFrame생성.\n",
    "    new_feature_name_df = get_new_feature_name_df(feature_name_df)\n",
    "\n",
    "    # DataFrame에 피처명을 컬럼으로 부여하기 위해 리스트 객체로 다시 변환\n",
    "    feature_name = new_feature_name_df.iloc[:, 1].values.tolist()\n",
    "\n",
    "    # 학습 피처 데이터 셋과 테스트 피처 데이터을 DataFrame으로 로딩. 컬럼명은 feature_name 적용\n",
    "    X_train = pd.read_csv('../../human_activity/train/X_train.txt',sep='\\s+', names=feature_name )\n",
    "    X_test = pd.read_csv('../../human_activity/test/X_test.txt',sep='\\s+', names=feature_name)\n",
    "\n",
    "    # 학습 레이블과 테스트 레이블 데이터을 DataFrame으로 로딩하고 컬럼명은 action으로 부여\n",
    "    y_train = pd.read_csv('../../human_activity/train/y_train.txt',sep='\\s+',header=None,names=['action'])\n",
    "    y_test = pd.read_csv('../../human_activity/test/y_test.txt',sep='\\s+',header=None,names=['action'])\n",
    "\n",
    "    # 로드된 학습/테스트용 DataFrame을 모두 반환\n",
    "    return X_train, X_test, y_train, y_test"
   ],
   "metadata": {
    "collapsed": false,
    "ExecuteTime": {
     "start_time": "2023-07-08T17:03:24.155072Z",
     "end_time": "2023-07-08T17:03:24.165130Z"
    }
   }
  },
  {
   "cell_type": "code",
   "execution_count": null,
   "outputs": [],
   "source": [
    "X_train, X_test, y_train, y_test = get_human_dataset()"
   ],
   "metadata": {
    "collapsed": false,
    "ExecuteTime": {
     "start_time": "2023-07-08T17:03:26.428279Z",
     "end_time": "2023-07-08T17:03:27.835897Z"
    }
   }
  },
  {
   "cell_type": "code",
   "execution_count": null,
   "outputs": [],
   "source": [
    "X_train.describe()"
   ],
   "metadata": {
    "collapsed": false,
    "ExecuteTime": {
     "start_time": "2023-07-08T17:03:54.098780Z",
     "end_time": "2023-07-08T17:03:55.213641Z"
    }
   }
  },
  {
   "cell_type": "markdown",
   "source": [
    "문제: 위에서 설명한 KNN Classifier 모델을 사용해 X_train 데이터를 학습하고 test accuracy를 출력하시오."
   ],
   "metadata": {
    "collapsed": false
   }
  },
  {
   "cell_type": "code",
   "execution_count": null,
   "outputs": [],
   "source": [
    "## 문제: 위에서 설명한 KNN Classifier 모델을 사용해 X_train 데이터를 학습하고 test accuracy를 출력하시오.\n",
    "\n"
   ],
   "metadata": {
    "collapsed": false,
    "ExecuteTime": {
     "start_time": "2023-07-08T17:04:30.894359Z",
     "end_time": "2023-07-08T17:04:30.919757Z"
    }
   }
  }
 ],
 "metadata": {
  "kernelspec": {
   "display_name": "Python 3",
   "language": "python",
   "name": "python3"
  },
  "language_info": {
   "codemirror_mode": {
    "name": "ipython",
    "version": 2
   },
   "file_extension": ".py",
   "mimetype": "text/x-python",
   "name": "python",
   "nbconvert_exporter": "python",
   "pygments_lexer": "ipython2",
   "version": "2.7.6"
  }
 },
 "nbformat": 4,
 "nbformat_minor": 0
}
