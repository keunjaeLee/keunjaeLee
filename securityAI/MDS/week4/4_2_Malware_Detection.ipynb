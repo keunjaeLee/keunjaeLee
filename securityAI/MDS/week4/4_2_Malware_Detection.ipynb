{
 "nbformat": 4,
 "nbformat_minor": 0,
 "metadata": {
  "colab": {
   "provenance": [],
   "authorship_tag": "ABX9TyNwMaLf7vCqqBmQakhnKcRV"
  },
  "kernelspec": {
   "name": "python3",
   "display_name": "Python 3"
  },
  "language_info": {
   "name": "python"
  }
 },
 "cells": [
  {
   "cell_type": "markdown",
   "source": [
    "# **Malware Detection**\n",
    "\n",
    "## Dataset: Benign & malicious PE Files for malware detection\n",
    "##### * Context\n",
    "This dataset is a result of a my research about Machine Learning & Malware Detection.\n",
    "\n",
    "It was built using a Python Library and contains benign and malicious data from PE Files.\n",
    "\n",
    "##### * Inspiration\n",
    "Machine Learning Antimalware"
   ],
   "metadata": {
    "id": "DSLjKDbEl5cD"
   }
  },
  {
   "cell_type": "code",
   "execution_count": null,
   "metadata": {
    "id": "WfgvHM1nRDBB",
    "executionInfo": {
     "status": "ok",
     "timestamp": 1688699181491,
     "user_tz": -540,
     "elapsed": 709,
     "user": {
      "displayName": "남현경_3260",
      "userId": "14495842827741338771"
     }
    }
   },
   "outputs": [],
   "source": [
    "import numpy as np\n",
    "import pandas as pd\n",
    "import os"
   ]
  },
  {
   "cell_type": "markdown",
   "source": [
    "**Creating a DataFrame**"
   ],
   "metadata": {
    "id": "CufPvZJOUK1g"
   }
  },
  {
   "cell_type": "code",
   "source": [
    "df_train = pd.read_csv(\"./dataset_malwares.csv\")"
   ],
   "metadata": {
    "id": "cRBFdtVsUJO3",
    "executionInfo": {
     "status": "ok",
     "timestamp": 1688699230824,
     "user_tz": -540,
     "elapsed": 237,
     "user": {
      "displayName": "남현경_3260",
      "userId": "14495842827741338771"
     }
    }
   },
   "execution_count": null,
   "outputs": []
  },
  {
   "cell_type": "code",
   "source": [
    "df_train.head()"
   ],
   "metadata": {
    "colab": {
     "base_uri": "https://localhost:8080/",
     "height": 300
    },
    "id": "7zcHeOyXUPPb",
    "executionInfo": {
     "status": "ok",
     "timestamp": 1688699236956,
     "user_tz": -540,
     "elapsed": 6,
     "user": {
      "displayName": "남현경_3260",
      "userId": "14495842827741338771"
     }
    },
    "outputId": "db24d519-88be-42eb-ac0c-f9c31bd5b446"
   },
   "execution_count": null,
   "outputs": []
  },
  {
   "cell_type": "code",
   "source": [
    "df_train.columns"
   ],
   "metadata": {
    "colab": {
     "base_uri": "https://localhost:8080/"
    },
    "id": "XzJDl0uwUW_l",
    "executionInfo": {
     "status": "ok",
     "timestamp": 1688699262800,
     "user_tz": -540,
     "elapsed": 2,
     "user": {
      "displayName": "남현경_3260",
      "userId": "14495842827741338771"
     }
    },
    "outputId": "4f6ef5d7-1964-4a0e-ad94-8bad55cd8601"
   },
   "execution_count": null,
   "outputs": []
  },
  {
   "cell_type": "code",
   "source": [
    "df_train.info()"
   ],
   "metadata": {
    "colab": {
     "base_uri": "https://localhost:8080/"
    },
    "id": "aJBtb5nEUdSK",
    "executionInfo": {
     "status": "ok",
     "timestamp": 1688699273630,
     "user_tz": -540,
     "elapsed": 3,
     "user": {
      "displayName": "남현경_3260",
      "userId": "14495842827741338771"
     }
    },
    "outputId": "69f404c4-399a-4845-db43-3fa6a179ef44"
   },
   "execution_count": null,
   "outputs": []
  },
  {
   "cell_type": "code",
   "source": [
    "df_train.Malware"
   ],
   "metadata": {
    "colab": {
     "base_uri": "https://localhost:8080/"
    },
    "id": "e0Zi4jL3Uf5H",
    "executionInfo": {
     "status": "ok",
     "timestamp": 1688699318809,
     "user_tz": -540,
     "elapsed": 245,
     "user": {
      "displayName": "남현경_3260",
      "userId": "14495842827741338771"
     }
    },
    "outputId": "29246136-53aa-43d0-d938-5d8430cd53dc"
   },
   "execution_count": null,
   "outputs": []
  },
  {
   "cell_type": "markdown",
   "source": [
    "**Malware is our target, 0 = Benign, 1 = Malware**"
   ],
   "metadata": {
    "id": "IP5MDY4EUtnE"
   }
  },
  {
   "cell_type": "code",
   "source": [
    "import matplotlib.pyplot as plt\n",
    "import seaborn as sns"
   ],
   "metadata": {
    "id": "XV3Y35ndUq6G",
    "executionInfo": {
     "status": "ok",
     "timestamp": 1688699367042,
     "user_tz": -540,
     "elapsed": 1723,
     "user": {
      "displayName": "남현경_3260",
      "userId": "14495842827741338771"
     }
    }
   },
   "execution_count": null,
   "outputs": []
  },
  {
   "cell_type": "code",
   "source": [
    "print(\"Columns having only 1 unique Value\")\n",
    "for col in df_train:\n",
    "    if len(df_train[col].unique())==1:\n",
    "        print(col)"
   ],
   "metadata": {
    "colab": {
     "base_uri": "https://localhost:8080/"
    },
    "id": "XqzxJe6qVCNZ",
    "executionInfo": {
     "status": "ok",
     "timestamp": 1688702880263,
     "user_tz": -540,
     "elapsed": 1,
     "user": {
      "displayName": "남현경_3260",
      "userId": "14495842827741338771"
     }
    },
    "outputId": "701f93d2-2161-484a-f440-43f3880d5a3f"
   },
   "execution_count": null,
   "outputs": []
  },
  {
   "cell_type": "code",
   "source": [
    "X=df_train.drop(['Name','Malware','e_magic',\n",
    "'SectionMaxEntropy',\n",
    "'SectionMaxRawsize',\n",
    "'SectionMaxVirtualsize',\n",
    "'SectionMinPhysical',\n",
    "'SectionMinVirtual',\n",
    "'SectionMinPointerData',\n",
    "'SectionMainChar'],axis=1)"
   ],
   "metadata": {
    "id": "UmiOvBNciQeB",
    "executionInfo": {
     "status": "ok",
     "timestamp": 1688702889497,
     "user_tz": -540,
     "elapsed": 2,
     "user": {
      "displayName": "남현경_3260",
      "userId": "14495842827741338771"
     }
    }
   },
   "execution_count": null,
   "outputs": []
  },
  {
   "cell_type": "code",
   "source": [
    "df_test=pd.read_csv(\"./dataset_test.csv\")\n",
    "X_t=df_test.drop(['Name','e_magic',\n",
    "'SectionMaxEntropy',\n",
    "'SectionMaxRawsize',\n",
    "'SectionMaxVirtualsize',\n",
    "'SectionMinPhysical',\n",
    "'SectionMinVirtual',\n",
    "'SectionMinPointerData',\n",
    "'SectionMainChar'],axis=1)"
   ],
   "metadata": {
    "id": "qPOXcQfMiSuC",
    "executionInfo": {
     "status": "ok",
     "timestamp": 1688702909135,
     "user_tz": -540,
     "elapsed": 317,
     "user": {
      "displayName": "남현경_3260",
      "userId": "14495842827741338771"
     }
    }
   },
   "execution_count": null,
   "outputs": []
  },
  {
   "cell_type": "code",
   "source": [
    "y=df_train['Malware']"
   ],
   "metadata": {
    "id": "biTx2Ro1iUTv",
    "executionInfo": {
     "status": "ok",
     "timestamp": 1688702912091,
     "user_tz": -540,
     "elapsed": 2,
     "user": {
      "displayName": "남현경_3260",
      "userId": "14495842827741338771"
     }
    }
   },
   "execution_count": null,
   "outputs": []
  },
  {
   "cell_type": "code",
   "source": [
    "y"
   ],
   "metadata": {
    "colab": {
     "base_uri": "https://localhost:8080/"
    },
    "id": "0AnMxIkSiYPP",
    "executionInfo": {
     "status": "ok",
     "timestamp": 1688702924212,
     "user_tz": -540,
     "elapsed": 2,
     "user": {
      "displayName": "남현경_3260",
      "userId": "14495842827741338771"
     }
    },
    "outputId": "02ab41c3-fe51-4562-c28e-8d9b1380f6b0"
   },
   "execution_count": null,
   "outputs": []
  },
  {
   "cell_type": "code",
   "source": [
    "from sklearn.ensemble import RandomForestClassifier\n",
    "from sklearn.neighbors import KNeighborsClassifier\n",
    "from sklearn.model_selection import train_test_split\n",
    "from sklearn.metrics import classification_report, confusion_matrix"
   ],
   "metadata": {
    "id": "CsZ-wRdjiaCe",
    "executionInfo": {
     "status": "ok",
     "timestamp": 1688702946933,
     "user_tz": -540,
     "elapsed": 695,
     "user": {
      "displayName": "남현경_3260",
      "userId": "14495842827741338771"
     }
    }
   },
   "execution_count": null,
   "outputs": []
  },
  {
   "cell_type": "markdown",
   "source": [
    "Train Valid Split"
   ],
   "metadata": {
    "id": "ZnTkXUhMikbk"
   }
  },
  {
   "cell_type": "code",
   "source": [
    "from sklearn.model_selection import train_test_split\n",
    "X_train, X_valid, y_train, y_valid = train_test_split(X, y, test_size=0.2, random_state=0)"
   ],
   "metadata": {
    "id": "gCJnkHqVigkc",
    "executionInfo": {
     "status": "ok",
     "timestamp": 1688703086974,
     "user_tz": -540,
     "elapsed": 411,
     "user": {
      "displayName": "남현경_3260",
      "userId": "14495842827741338771"
     }
    }
   },
   "execution_count": null,
   "outputs": []
  },
  {
   "cell_type": "markdown",
   "source": [
    "# **KNN Classifier**"
   ],
   "metadata": {
    "id": "WEvq_IDTjESf"
   }
  },
  {
   "cell_type": "code",
   "source": [
    "neigh = KNeighborsClassifier(n_neighbors=2)\n",
    "neigh.fit(X_train, y_train)"
   ],
   "metadata": {
    "colab": {
     "base_uri": "https://localhost:8080/",
     "height": 75
    },
    "id": "6C2r_pcdjCxC",
    "executionInfo": {
     "status": "ok",
     "timestamp": 1688703108904,
     "user_tz": -540,
     "elapsed": 258,
     "user": {
      "displayName": "남현경_3260",
      "userId": "14495842827741338771"
     }
    },
    "outputId": "6eecee06-a40b-4925-a9c8-1cd729a549d2"
   },
   "execution_count": null,
   "outputs": []
  },
  {
   "cell_type": "code",
   "source": [
    "y_pred=neigh.predict(X_valid)"
   ],
   "metadata": {
    "id": "oJtGsaVujIOJ",
    "executionInfo": {
     "status": "ok",
     "timestamp": 1688703122946,
     "user_tz": -540,
     "elapsed": 1509,
     "user": {
      "displayName": "남현경_3260",
      "userId": "14495842827741338771"
     }
    }
   },
   "execution_count": null,
   "outputs": []
  },
  {
   "cell_type": "code",
   "source": [
    "def c_r(y_valid,y_pred):\n",
    "    ax=sns.heatmap(confusion_matrix(y_pred, y_valid), annot=True, fmt=\"d\", cmap=plt.cm.Blues, cbar=False)\n",
    "    ax.set_xlabel('Predicted labels')\n",
    "    ax.set_ylabel('True labels')\n",
    "    print(classification_report(y_valid, y_pred, target_names=['Benign', 'Malware']))"
   ],
   "metadata": {
    "id": "KGfNLplzjLTN",
    "executionInfo": {
     "status": "ok",
     "timestamp": 1688703172721,
     "user_tz": -540,
     "elapsed": 309,
     "user": {
      "displayName": "남현경_3260",
      "userId": "14495842827741338771"
     }
    }
   },
   "execution_count": null,
   "outputs": []
  },
  {
   "cell_type": "code",
   "source": [
    "c_r(y_valid,y_pred)"
   ],
   "metadata": {
    "colab": {
     "base_uri": "https://localhost:8080/",
     "height": 610
    },
    "id": "UtALqUu9jPaq",
    "executionInfo": {
     "status": "ok",
     "timestamp": 1688703176477,
     "user_tz": -540,
     "elapsed": 582,
     "user": {
      "displayName": "남현경_3260",
      "userId": "14495842827741338771"
     }
    },
    "outputId": "ce6708a4-8748-41e6-aad6-8d4004330f3a"
   },
   "execution_count": null,
   "outputs": []
  },
  {
   "cell_type": "markdown",
   "source": [
    "**Accuracy with Real Test Dataset**"
   ],
   "metadata": {
    "id": "kJ3wGd_fjaMN"
   }
  },
  {
   "cell_type": "code",
   "source": [
    "real_preds = neigh.predict(X_t)"
   ],
   "metadata": {
    "id": "P36NdENojRqj",
    "executionInfo": {
     "status": "ok",
     "timestamp": 1688703209822,
     "user_tz": -540,
     "elapsed": 440,
     "user": {
      "displayName": "남현경_3260",
      "userId": "14495842827741338771"
     }
    }
   },
   "execution_count": null,
   "outputs": []
  },
  {
   "cell_type": "code",
   "source": [
    "real_preds"
   ],
   "metadata": {
    "colab": {
     "base_uri": "https://localhost:8080/"
    },
    "id": "HWRy7sMHjfuR",
    "executionInfo": {
     "status": "ok",
     "timestamp": 1688703213916,
     "user_tz": -540,
     "elapsed": 2,
     "user": {
      "displayName": "남현경_3260",
      "userId": "14495842827741338771"
     }
    },
    "outputId": "fa581503-be3d-4c17-f2df-b080c381126b"
   },
   "execution_count": null,
   "outputs": []
  },
  {
   "cell_type": "code",
   "source": [
    "df_test['Name']"
   ],
   "metadata": {
    "colab": {
     "base_uri": "https://localhost:8080/"
    },
    "id": "yvt_BduNjh2N",
    "executionInfo": {
     "status": "ok",
     "timestamp": 1688703219616,
     "user_tz": -540,
     "elapsed": 361,
     "user": {
      "displayName": "남현경_3260",
      "userId": "14495842827741338771"
     }
    },
    "outputId": "c3206164-9b60-49f8-a84f-f9eee8907d7f"
   },
   "execution_count": null,
   "outputs": []
  },
  {
   "cell_type": "code",
   "source": [
    "for x in df_test.iterrows():\n",
    "    i,d=x\n",
    "    print(f\"{d['Name']}:{real_preds[i]}\")"
   ],
   "metadata": {
    "colab": {
     "base_uri": "https://localhost:8080/"
    },
    "id": "RXEZmSAHjjSb",
    "executionInfo": {
     "status": "ok",
     "timestamp": 1688703227233,
     "user_tz": -540,
     "elapsed": 244,
     "user": {
      "displayName": "남현경_3260",
      "userId": "14495842827741338771"
     }
    },
    "outputId": "01793514-e76b-45be-afa3-b740328136c3"
   },
   "execution_count": null,
   "outputs": []
  },
  {
   "cell_type": "markdown",
   "source": [
    "# **Random Forest**"
   ],
   "metadata": {
    "id": "3zo-pZ03j3dx"
   }
  },
  {
   "cell_type": "code",
   "source": [
    "df_train = pd.read_csv('./dataset_malwares.csv')"
   ],
   "metadata": {
    "id": "x4OVQ7V2kEyX",
    "executionInfo": {
     "status": "ok",
     "timestamp": 1688703374656,
     "user_tz": -540,
     "elapsed": 671,
     "user": {
      "displayName": "남현경_3260",
      "userId": "14495842827741338771"
     }
    }
   },
   "execution_count": null,
   "outputs": []
  },
  {
   "cell_type": "code",
   "source": [
    "dropped_df = df_train.drop(['Name', 'Machine', 'TimeDateStamp', 'Malware'], axis=1)"
   ],
   "metadata": {
    "id": "h2W8FuMgjlLX",
    "executionInfo": {
     "status": "ok",
     "timestamp": 1688703377701,
     "user_tz": -540,
     "elapsed": 410,
     "user": {
      "displayName": "남현경_3260",
      "userId": "14495842827741338771"
     }
    }
   },
   "execution_count": null,
   "outputs": []
  },
  {
   "cell_type": "code",
   "source": [
    "features = ['MajorSubsystemVersion', 'MajorLinkerVersion', 'SizeOfCode', 'SizeOfImage', 'SizeOfHeaders', 'SizeOfInitializedData',\n",
    "            'SizeOfUninitializedData', 'SizeOfStackReserve', 'SizeOfHeapReserve', 'NumberOfSymbols', 'SectionMaxChar']\n",
    "i=1\n",
    "\n",
    "for feature in features:\n",
    "    plt.figure(figsize=(10, 15))\n",
    "    ax1 = plt.subplot(len(features), 2, i)\n",
    "    sns.distplot(df_train[df_train['Malware']==1][feature], ax=ax1, kde_kws={'bw': 0.1})\n",
    "    ax1.set_title(f'Malware', fontsize=10)\n",
    "    ax2 = plt.subplot(len(features), 2, i+1)\n",
    "    sns.distplot(df_train[df_train['Malware']==0][feature], ax=ax2, kde_kws={'bw': 0.1})\n",
    "    ax2.set_title(f'Benign', fontsize=10)\n",
    "    i= i+2"
   ],
   "metadata": {
    "colab": {
     "base_uri": "https://localhost:8080/",
     "height": 1000
    },
    "id": "iQG1rqJGkJxM",
    "executionInfo": {
     "status": "ok",
     "timestamp": 1688703440607,
     "user_tz": -540,
     "elapsed": 11422,
     "user": {
      "displayName": "남현경_3260",
      "userId": "14495842827741338771"
     }
    },
    "outputId": "24e26c91-93cd-4f21-a182-96b414c2bd35"
   },
   "execution_count": null,
   "outputs": []
  },
  {
   "cell_type": "code",
   "source": [
    "X_train = dropped_df\n",
    "y = df_train['Malware']"
   ],
   "metadata": {
    "id": "kxHbElXLkWhU",
    "executionInfo": {
     "status": "ok",
     "timestamp": 1688703527848,
     "user_tz": -540,
     "elapsed": 264,
     "user": {
      "displayName": "남현경_3260",
      "userId": "14495842827741338771"
     }
    }
   },
   "execution_count": null,
   "outputs": []
  },
  {
   "cell_type": "code",
   "source": [
    "X_train, X_valid, y_train, y_valid = train_test_split(X, y, test_size=0.2, random_state=0)"
   ],
   "metadata": {
    "id": "nwrjc3OzkukW",
    "executionInfo": {
     "status": "ok",
     "timestamp": 1688703578182,
     "user_tz": -540,
     "elapsed": 2,
     "user": {
      "displayName": "남현경_3260",
      "userId": "14495842827741338771"
     }
    }
   },
   "execution_count": null,
   "outputs": []
  },
  {
   "cell_type": "code",
   "source": [
    "print(\"Number of used features:\", X_train.shape[1])"
   ],
   "metadata": {
    "colab": {
     "base_uri": "https://localhost:8080/"
    },
    "id": "FezU4X2Dk61p",
    "executionInfo": {
     "status": "ok",
     "timestamp": 1688703587337,
     "user_tz": -540,
     "elapsed": 1,
     "user": {
      "displayName": "남현경_3260",
      "userId": "14495842827741338771"
     }
    },
    "outputId": "47a57170-4580-4118-d339-a8a500ae4a98"
   },
   "execution_count": null,
   "outputs": []
  },
  {
   "cell_type": "code",
   "source": [
    "# Initialize the Random Forest Classifier\n",
    "clf = RandomForestClassifier(\n",
    "    # Set the number of trees to 100\n",
    "    n_estimators=100,\n",
    "    # Set the random state to 0 to ensure reproducibility\n",
    "    random_state=0,\n",
    "    # Enable the out-of-bag (OOB) score\n",
    "    oob_score = True,\n",
    "    # Set the maximum depth of the trees to 16\n",
    "    max_depth = 16)\n",
    "\n",
    "# Fit the classifier to the training data\n",
    "clf.fit(X_train, y_train)"
   ],
   "metadata": {
    "colab": {
     "base_uri": "https://localhost:8080/",
     "height": 75
    },
    "id": "np4GO341k9Ea",
    "executionInfo": {
     "status": "ok",
     "timestamp": 1688703614613,
     "user_tz": -540,
     "elapsed": 3517,
     "user": {
      "displayName": "남현경_3260",
      "userId": "14495842827741338771"
     }
    },
    "outputId": "a4206ef7-b791-4078-f01a-132111a0056d"
   },
   "execution_count": null,
   "outputs": []
  },
  {
   "cell_type": "code",
   "source": [
    "y_pred = clf.predict(X_valid)"
   ],
   "metadata": {
    "id": "AVIQM9BHlC7e",
    "executionInfo": {
     "status": "ok",
     "timestamp": 1688703625695,
     "user_tz": -540,
     "elapsed": 382,
     "user": {
      "displayName": "남현경_3260",
      "userId": "14495842827741338771"
     }
    }
   },
   "execution_count": null,
   "outputs": []
  },
  {
   "cell_type": "code",
   "source": [
    "c_r(y_valid,y_pred)"
   ],
   "metadata": {
    "colab": {
     "base_uri": "https://localhost:8080/",
     "height": 610
    },
    "id": "TsrqJHcTlGR0",
    "executionInfo": {
     "status": "ok",
     "timestamp": 1688703685985,
     "user_tz": -540,
     "elapsed": 414,
     "user": {
      "displayName": "남현경_3260",
      "userId": "14495842827741338771"
     }
    },
    "outputId": "6e48b67b-ce1b-4853-900b-176fa6872994"
   },
   "execution_count": null,
   "outputs": []
  },
  {
   "cell_type": "code",
   "source": [
    "importance = clf.feature_importances_\n",
    "importance_dict = dict(zip(dropped_df.columns.values, importance))\n",
    "sorted_importance = dict(sorted(importance_dict.items(), key=lambda x: x[1], reverse=True))\n",
    "\n",
    "plt.figure(figsize=(10, 20))\n",
    "sns.barplot(x=list(sorted_importance.values()), y=list(sorted_importance.keys()), palette='mako')\n",
    "plt.xlabel('Importance Value')\n",
    "plt.ylabel('Feature Name')\n",
    "plt.title('Feature Importance in Random Forest Classifier')\n",
    "plt.show()"
   ],
   "metadata": {
    "colab": {
     "base_uri": "https://localhost:8080/",
     "height": 1000
    },
    "id": "2-5hd25HlI3r",
    "executionInfo": {
     "status": "ok",
     "timestamp": 1688703719289,
     "user_tz": -540,
     "elapsed": 4051,
     "user": {
      "displayName": "남현경_3260",
      "userId": "14495842827741338771"
     }
    },
    "outputId": "ff767489-9fdf-4b29-d80a-b320e15ad5a2"
   },
   "execution_count": null,
   "outputs": []
  }
 ]
}
