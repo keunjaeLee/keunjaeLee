{
 "cells": [
  {
   "attachments": {},
   "cell_type": "markdown",
   "metadata": {
    "id": "dbMNW9snqIOz"
   },
   "source": [
    "# NumPy ndarray 개요\n",
    "- NumPy (Numerical Python)는 Python에서 수치 계산을 위해 사용되는 핵심 라이브러리\n",
    "- NumPy는 고성능의 다차원 배열 객체와 이러한 배열 작업을 위한 도구를 제공\n",
    "\n",
    "**Numpy의 주요 기능:**\n",
    "1. **다차원 배열**: NumPy의 핵심 기능은 N차원 배열 객체인 ndarray로, 동일한 유형의 항목을 가진 그리드를 나타내며, 각 항목은 배열의 차원에 의해 인덱싱 가능.\n",
    "2. **배열 연산**: NumPy는 배열 간 산술 연산 함수도 함께 제공하며 이는 Python의 기본 연산보다 훨씬 빠르고 메모리를 효율적으로 사용함.\n",
    "3. **수학 함수**: NumPy는 mathematical 함수를 제공하여 배열에 대한 연산을 쉽게 수행할 수 있음.\n",
    "4. **선형대수 연산**: NumPy는 선형 대수 연산, 푸리에 변환 등 다양한 선형대수 연산을 지원.\n",
    "5. 통합 기능: NumPy는 C, C++, Fortran으로 작성된 코드를 통합하는 도구 등을 제공함.\n",
    "\n",
    "NumPy는 데이터 분석, 머신러닝, 과학 계산 등 다양한 분야에서 사용되며, Pandas, Matplotlib, Scikit-learn 등의 Python 데이터 과학 라이브러리의 기반이 됨"
   ]
  },
  {
   "cell_type": "code",
   "execution_count": null,
   "metadata": {
    "executionInfo": {
     "elapsed": 3,
     "status": "ok",
     "timestamp": 1687144700274,
     "user": {
      "displayName": "남현경_3260",
      "userId": "14495842827741338771"
     },
     "user_tz": -540
    },
    "id": "HyYd3CS5qLZX"
   },
   "outputs": [],
   "source": [
    "import numpy as np"
   ]
  },
  {
   "cell_type": "code",
   "execution_count": null,
   "metadata": {
    "colab": {
     "base_uri": "https://localhost:8080/"
    },
    "executionInfo": {
     "elapsed": 468,
     "status": "ok",
     "timestamp": 1687144712318,
     "user": {
      "displayName": "남현경_3260",
      "userId": "14495842827741338771"
     },
     "user_tz": -540
    },
    "id": "BRzfMK6MqRUg",
    "outputId": "275d5033-e226-4a8d-aad6-b08ffa8a77f3"
   },
   "outputs": [],
   "source": [
    "array1 = np.array([1,2,3])\n",
    "print('array1 type:',type(array1))\n",
    "print('array1 array 형태:',array1.shape)\n",
    "\n",
    "array2 = np.array([[1,2,3],\n",
    "                  [2,3,4]])\n",
    "print('array2 type:',type(array2))\n",
    "print('array2 array 형태:',array2.shape)\n",
    "\n",
    "array3 = np.array([[1,2,3]])\n",
    "print('array3 type:',type(array3))\n",
    "print('array3 array 형태:',array3.shape)"
   ]
  },
  {
   "cell_type": "code",
   "execution_count": null,
   "metadata": {
    "colab": {
     "base_uri": "https://localhost:8080/"
    },
    "executionInfo": {
     "elapsed": 1,
     "status": "ok",
     "timestamp": 1687144761693,
     "user": {
      "displayName": "남현경_3260",
      "userId": "14495842827741338771"
     },
     "user_tz": -540
    },
    "id": "4dodurlsqUOT",
    "outputId": "fd182420-a787-4ac3-d60e-faee7c799dab"
   },
   "outputs": [],
   "source": [
    "print('array1: {0}차원, array2: {1}차원, array3: {2}차원'.format(array1.ndim,array2.ndim,array3.ndim))"
   ]
  },
  {
   "cell_type": "code",
   "execution_count": null,
   "metadata": {
    "colab": {
     "base_uri": "https://localhost:8080/"
    },
    "executionInfo": {
     "elapsed": 536,
     "status": "ok",
     "timestamp": 1687144772303,
     "user": {
      "displayName": "남현경_3260",
      "userId": "14495842827741338771"
     },
     "user_tz": -540
    },
    "id": "DxKniROEqgX6",
    "outputId": "53d0530a-871b-4573-9d4b-edf72b4dc3d9"
   },
   "outputs": [],
   "source": [
    "list1 = [1,2,3]\n",
    "print(type(list1))\n",
    "array1 = np.array(list1)\n",
    "print(type(array1))\n",
    "print(array1, array1.dtype)"
   ]
  },
  {
   "cell_type": "code",
   "execution_count": null,
   "metadata": {
    "colab": {
     "base_uri": "https://localhost:8080/"
    },
    "executionInfo": {
     "elapsed": 4,
     "status": "ok",
     "timestamp": 1687145102979,
     "user": {
      "displayName": "남현경_3260",
      "userId": "14495842827741338771"
     },
     "user_tz": -540
    },
    "id": "X5yvjSwnqi4H",
    "outputId": "a8a88a50-92dd-40cb-b613-c22f59cd6719"
   },
   "outputs": [],
   "source": [
    "list2 = [1, 2, 'test']\n",
    "array2 = np.array(list2)\n",
    "print(array2, array2.dtype)\n",
    "\n",
    "list3 = [1, 2, 3.0]\n",
    "array3 = np.array(list3)\n",
    "print(array3, array3.dtype)"
   ]
  },
  {
   "cell_type": "code",
   "execution_count": null,
   "metadata": {
    "colab": {
     "base_uri": "https://localhost:8080/"
    },
    "executionInfo": {
     "elapsed": 3,
     "status": "ok",
     "timestamp": 1687145162167,
     "user": {
      "displayName": "남현경_3260",
      "userId": "14495842827741338771"
     },
     "user_tz": -540
    },
    "id": "K3UrfVHVqm-u",
    "outputId": "9009ec58-dc39-406b-f97b-c0d859962f28"
   },
   "outputs": [],
   "source": [
    "array_int = np.array([1, 2, 3])\n",
    "array_float = array_int.astype('float64')\n",
    "print(array_float, array_float.dtype)\n",
    "\n",
    "array_int1= array_float.astype('int32')\n",
    "print(array_int1, array_int1.dtype)\n",
    "\n",
    "array_float1 = np.array([1.1, 2.1, 3.1])\n",
    "array_int2= array_float1.astype('int32')\n",
    "print(array_int2, array_int2.dtype)"
   ]
  },
  {
   "attachments": {},
   "cell_type": "markdown",
   "metadata": {
    "id": "VlWzzclLsQJG"
   },
   "source": [
    "# ndarray를 편리하게 생성하기 - arange, zeros, ones"
   ]
  },
  {
   "attachments": {},
   "cell_type": "markdown",
   "metadata": {
    "id": "zNYybAbQtWPV"
   },
   "source": [
    "### 참고 링크\n",
    "https://numpy.org/doc/stable/reference/generated/numpy.arange.html#numpy-arange\n",
    "\n",
    "https://numpy.org/doc/stable/reference/generated/numpy.zeros.html\n",
    "\n",
    "https://numpy.org/doc/stable/reference/generated/numpy.ones.html"
   ]
  },
  {
   "cell_type": "code",
   "execution_count": null,
   "metadata": {
    "colab": {
     "base_uri": "https://localhost:8080/"
    },
    "executionInfo": {
     "elapsed": 2,
     "status": "ok",
     "timestamp": 1687145382705,
     "user": {
      "displayName": "남현경_3260",
      "userId": "14495842827741338771"
     },
     "user_tz": -540
    },
    "id": "vUCgpsmDsRjb",
    "outputId": "d6842ebd-bbe6-4209-efa6-705328c8eea9"
   },
   "outputs": [],
   "source": [
    "sequence_array = np.arange(10)\n",
    "print(sequence_array)\n",
    "print(sequence_array.dtype, sequence_array.shape)"
   ]
  },
  {
   "cell_type": "code",
   "execution_count": null,
   "metadata": {
    "colab": {
     "base_uri": "https://localhost:8080/"
    },
    "executionInfo": {
     "elapsed": 4,
     "status": "ok",
     "timestamp": 1687145429461,
     "user": {
      "displayName": "남현경_3260",
      "userId": "14495842827741338771"
     },
     "user_tz": -540
    },
    "id": "-ti6zKj3s4u4",
    "outputId": "9ebecccb-d1b5-45ce-d424-48fa2c1b557f"
   },
   "outputs": [],
   "source": [
    "sequence_array2 = np.arange(start=1, stop=10, step=3)\n",
    "print(sequence_array2)\n",
    "print(sequence_array2.dtype, sequence_array2.shape)"
   ]
  },
  {
   "cell_type": "code",
   "execution_count": null,
   "metadata": {
    "colab": {
     "base_uri": "https://localhost:8080/"
    },
    "executionInfo": {
     "elapsed": 1,
     "status": "ok",
     "timestamp": 1687145290484,
     "user": {
      "displayName": "남현경_3260",
      "userId": "14495842827741338771"
     },
     "user_tz": -540
    },
    "id": "5y8YJ-b_sfrv",
    "outputId": "d15fa23a-8316-464e-b92a-efaf933524d1"
   },
   "outputs": [],
   "source": [
    "zero_array = np.zeros((3,2),dtype='int32')\n",
    "print(zero_array)\n",
    "print(zero_array.dtype, zero_array.shape)\n",
    "\n",
    "one_array = np.ones((3,2))\n",
    "print(one_array)\n",
    "print(one_array.dtype, one_array.shape)"
   ]
  },
  {
   "attachments": {},
   "cell_type": "markdown",
   "metadata": {
    "id": "eaqIrxwb8NmM"
   },
   "source": [
    "# Reshape"
   ]
  },
  {
   "cell_type": "code",
   "execution_count": null,
   "metadata": {
    "colab": {
     "base_uri": "https://localhost:8080/"
    },
    "executionInfo": {
     "elapsed": 354,
     "status": "ok",
     "timestamp": 1687149422706,
     "user": {
      "displayName": "남현경_3260",
      "userId": "14495842827741338771"
     },
     "user_tz": -540
    },
    "id": "0TTJ9nx8shfe",
    "outputId": "e42cea70-a4b2-4f8f-89f1-711ec0cb3662"
   },
   "outputs": [],
   "source": [
    "array1 = np.arange(10)\n",
    "print('array1:\\n', array1)\n",
    "\n",
    "array2 = array1.reshape(2,5)\n",
    "print('array2:\\n',array2)\n",
    "\n",
    "array3 = array1.reshape(5,2)\n",
    "print('array3:\\n',array3)"
   ]
  },
  {
   "cell_type": "code",
   "execution_count": null,
   "metadata": {
    "colab": {
     "base_uri": "https://localhost:8080/"
    },
    "executionInfo": {
     "elapsed": 479,
     "status": "ok",
     "timestamp": 1687149972920,
     "user": {
      "displayName": "남현경_3260",
      "userId": "14495842827741338771"
     },
     "user_tz": -540
    },
    "id": "bV6nzMQW8Oko",
    "outputId": "21b7b381-ecbe-4101-fee8-b4de92bbfc74"
   },
   "outputs": [],
   "source": [
    "array1 = np.arange(10)\n",
    "print(array1)\n",
    "\n",
    "array2 = array1.reshape(-1,5)\n",
    "print('array2 shape:',array2.shape)\n",
    "\n",
    "array3 = array1.reshape(5,-1)\n",
    "print('array3 shape:',array3.shape)"
   ]
  },
  {
   "attachments": {},
   "cell_type": "markdown",
   "metadata": {
    "id": "tZb8MBaCBTd8"
   },
   "source": [
    "# ***NumPy ndarray PRACTICE***"
   ]
  },
  {
   "cell_type": "code",
   "execution_count": null,
   "metadata": {
    "colab": {
     "base_uri": "https://localhost:8080/"
    },
    "executionInfo": {
     "elapsed": 415,
     "status": "ok",
     "timestamp": 1687150716888,
     "user": {
      "displayName": "남현경_3260",
      "userId": "14495842827741338771"
     },
     "user_tz": -540
    },
    "id": "lMTc8KY8-YnN",
    "outputId": "fe8f9450-414e-4d60-c7db-3df144b85e90"
   },
   "outputs": [],
   "source": [
    "array1 = np.arange(8)\n",
    "\n",
    "''' PRACTICE\n",
    "\n",
    "1. 1차원 array1 3차원 array3d 변환\n",
    "\n",
    "[output]\n",
    "array3d shape: (2, 2, 2)\n",
    "\n",
    "2. 3차원 array3d 2차원 array2d 변환\n",
    "\n",
    "[output]\n",
    "array2d shape: (8, 1)\n",
    "\n",
    "3. 1차원 array1를 2차원 array2d 변환\n",
    "\n",
    "[output]\n",
    "array2d shape: (4, 2)\n",
    "'''"
   ]
  },
  {
   "attachments": {},
   "cell_type": "markdown",
   "metadata": {
    "id": "yzAeKU_ZBhqf"
   },
   "source": [
    "# Indexing\n",
    "* 단일값 추출"
   ]
  },
  {
   "cell_type": "code",
   "execution_count": null,
   "metadata": {
    "colab": {
     "base_uri": "https://localhost:8080/"
    },
    "executionInfo": {
     "elapsed": 313,
     "status": "ok",
     "timestamp": 1687150828261,
     "user": {
      "displayName": "남현경_3260",
      "userId": "14495842827741338771"
     },
     "user_tz": -540
    },
    "id": "sXhb9qkKBjVo",
    "outputId": "c9a81e83-5753-4965-d604-439422bbe899"
   },
   "outputs": [],
   "source": [
    "# 1에서 부터 9 까지의 1차원 ndarray 생성\n",
    "array1 = np.arange(start=1, stop=10)\n",
    "print('array1:',array1)\n",
    "# index는 0 부터 시작하므로 array1[2]는 3번째 index 위치의 데이터 값을 의미\n",
    "value = array1[2]\n",
    "print('value:',value)\n",
    "print(type(value))"
   ]
  },
  {
   "cell_type": "code",
   "execution_count": null,
   "metadata": {
    "colab": {
     "base_uri": "https://localhost:8080/"
    },
    "executionInfo": {
     "elapsed": 319,
     "status": "ok",
     "timestamp": 1687150835405,
     "user": {
      "displayName": "남현경_3260",
      "userId": "14495842827741338771"
     },
     "user_tz": -540
    },
    "id": "JYEKdSUf-rmc",
    "outputId": "aa7a40e7-66ec-4391-d696-c469c3ad8e11"
   },
   "outputs": [],
   "source": [
    "print('맨 뒤의 값:',array1[-1], ', 맨 뒤에서 두번째 값:',array1[-2])"
   ]
  },
  {
   "attachments": {},
   "cell_type": "markdown",
   "metadata": {
    "id": "Gsm54ilPB50d"
   },
   "source": [
    "* Slicing"
   ]
  },
  {
   "cell_type": "code",
   "execution_count": null,
   "metadata": {
    "colab": {
     "base_uri": "https://localhost:8080/"
    },
    "executionInfo": {
     "elapsed": 333,
     "status": "ok",
     "timestamp": 1687150937668,
     "user": {
      "displayName": "남현경_3260",
      "userId": "14495842827741338771"
     },
     "user_tz": -540
    },
    "id": "NwWJXr2NB28-",
    "outputId": "87969013-8684-4799-ecce-566cebd559ab"
   },
   "outputs": [],
   "source": [
    "array1 = np.arange(start=1, stop=10)\n",
    "print(array1)\n",
    "array3 = array1[0:3]\n",
    "print(array3)\n",
    "print(type(array3))"
   ]
  },
  {
   "cell_type": "code",
   "execution_count": null,
   "metadata": {
    "colab": {
     "base_uri": "https://localhost:8080/"
    },
    "executionInfo": {
     "elapsed": 287,
     "status": "ok",
     "timestamp": 1687151026030,
     "user": {
      "displayName": "남현경_3260",
      "userId": "14495842827741338771"
     },
     "user_tz": -540
    },
    "id": "506nvu3fB-58",
    "outputId": "5571ad21-3eac-4405-bc39-0036165836d2"
   },
   "outputs": [],
   "source": [
    "array1 = np.arange(start=1, stop=10)\n",
    "array4 = array1[:3]\n",
    "print(array4)\n",
    "\n",
    "array5 = array1[3:]\n",
    "print(array5)\n",
    "\n",
    "array6 = array1[:]\n",
    "print(array6)"
   ]
  },
  {
   "attachments": {},
   "cell_type": "markdown",
   "metadata": {
    "id": "4Pzo29iVCmFE"
   },
   "source": [
    "# ***NumPy Indexing PRACTICE***"
   ]
  },
  {
   "cell_type": "code",
   "execution_count": null,
   "metadata": {
    "colab": {
     "base_uri": "https://localhost:8080/"
    },
    "executionInfo": {
     "elapsed": 295,
     "status": "ok",
     "timestamp": 1687151442166,
     "user": {
      "displayName": "남현경_3260",
      "userId": "14495842827741338771"
     },
     "user_tz": -540
    },
    "id": "iIxjER_FClUP",
    "outputId": "00687810-715c-4d85-a4b5-b1188944d3c0"
   },
   "outputs": [],
   "source": [
    "array1d = np.arange(start=1, stop=10)\n",
    "array2d = array1d.reshape(3,3)\n",
    "print(array2d)\n",
    "'''1. 단일값 추출\n",
    "\n",
    "[output]\n",
    "\n",
    "[[1 2 3]\n",
    " [4 5 6]\n",
    " [7 8 9]]\n",
    "index 가리키는 값: 1\n",
    "index 가리키는 값: 2\n",
    "index 가리키는 값: 4\n",
    "index 가리키는 값: 9\n",
    "\n",
    "'''\n",
    "\n",
    "\n",
    "array1d = np.arange(start=1, stop=10)\n",
    "array2d = array1d.reshape(3,3)\n",
    "print('array2d:\\n',array2d)\n",
    "\n",
    "'''2. Slicing\n",
    "\n",
    "[output]\n",
    "\n",
    "array2d:\n",
    " [[1 2 3]\n",
    " [4 5 6]\n",
    " [7 8 9]]\n",
    "\n",
    "(1)\n",
    "array2d:\n",
    " [[1 2]\n",
    " [4 5]]\n",
    "\n",
    " (2)\n",
    "array2d:\n",
    " [[2 3]\n",
    " [5 6]]\n",
    "\n",
    " (3)\n",
    "array2d:\n",
    " [1 4]\n",
    "\n",
    "# (3) array2d shape: (2,)\n",
    "'''"
   ]
  },
  {
   "attachments": {},
   "cell_type": "markdown",
   "metadata": {
    "id": "wFvcLZl8EtXy"
   },
   "source": [
    "* fancy indexing"
   ]
  },
  {
   "cell_type": "code",
   "execution_count": null,
   "metadata": {
    "colab": {
     "base_uri": "https://localhost:8080/"
    },
    "executionInfo": {
     "elapsed": 334,
     "status": "ok",
     "timestamp": 1687151549652,
     "user": {
      "displayName": "남현경_3260",
      "userId": "14495842827741338771"
     },
     "user_tz": -540
    },
    "id": "XBLlovCmCb0p",
    "outputId": "83ac5a0e-bb03-41c7-fdaa-22e9146a31a7"
   },
   "outputs": [],
   "source": [
    "array1d = np.arange(start=1, stop=10)\n",
    "array2d = array1d.reshape(3,3)\n",
    "\n",
    "print(array2d)\n",
    "array3 = array2d[[0,1], 2]\n",
    "print('array2d[[0,1], 2] => ',array3)\n",
    "\n",
    "array4 = array2d[[0,1], 0:2]\n",
    "print('array2d[[0,1], 0:2] => ',array4)\n",
    "\n",
    "array5 = array2d[[0,1]]\n",
    "print('array2d[[0,1]] => ',array5)"
   ]
  },
  {
   "attachments": {},
   "cell_type": "markdown",
   "metadata": {
    "id": "Papvwny2FTzl"
   },
   "source": [
    "# 행렬의 정렬 – sort( )와 argsort( )\n",
    "* 행렬 정렬"
   ]
  },
  {
   "cell_type": "code",
   "execution_count": null,
   "metadata": {
    "colab": {
     "base_uri": "https://localhost:8080/"
    },
    "executionInfo": {
     "elapsed": 307,
     "status": "ok",
     "timestamp": 1687151811547,
     "user": {
      "displayName": "남현경_3260",
      "userId": "14495842827741338771"
     },
     "user_tz": -540
    },
    "id": "fR-6c-ctEqsP",
    "outputId": "2b77cc10-e012-4548-94da-8876b4cd06a3"
   },
   "outputs": [],
   "source": [
    "org_array = np.array([ 3, 1, 9, 5])\n",
    "print('원본 행렬:', org_array)\n",
    "# np.sort( )로 정렬\n",
    "sort_array1 = np.sort(org_array)\n",
    "print ('np.sort( ) 호출 후 반환된 정렬 행렬:', sort_array1)\n",
    "print('np.sort( ) 호출 후 원본 행렬:', org_array)\n",
    "# ndarray.sort( )로 정렬\n",
    "sort_array2 = org_array.sort()\n",
    "print('org_array.sort( ) 호출 후 반환된 행렬:', sort_array2)\n",
    "print('org_array.sort( ) 호출 후 원본 행렬:', org_array)"
   ]
  },
  {
   "cell_type": "code",
   "execution_count": null,
   "metadata": {
    "colab": {
     "base_uri": "https://localhost:8080/"
    },
    "executionInfo": {
     "elapsed": 289,
     "status": "ok",
     "timestamp": 1687151817589,
     "user": {
      "displayName": "남현경_3260",
      "userId": "14495842827741338771"
     },
     "user_tz": -540
    },
    "id": "bO1O1wZVFZj4",
    "outputId": "8cb7bf9e-5cc7-46a8-e5c8-cbe38c0bd8e8"
   },
   "outputs": [],
   "source": [
    "sort_array1_desc = np.sort(org_array)[::-1]\n",
    "print ('내림차순으로 정렬:', sort_array1_desc)"
   ]
  },
  {
   "cell_type": "code",
   "execution_count": null,
   "metadata": {
    "colab": {
     "base_uri": "https://localhost:8080/"
    },
    "executionInfo": {
     "elapsed": 277,
     "status": "ok",
     "timestamp": 1687151824035,
     "user": {
      "displayName": "남현경_3260",
      "userId": "14495842827741338771"
     },
     "user_tz": -540
    },
    "id": "2Rwip5uhFbCi",
    "outputId": "7a5c8c3e-816e-49e0-d46a-6ab12f1af3e5"
   },
   "outputs": [],
   "source": [
    "array2d = np.array([[8, 12],\n",
    "                   [7, 1 ]])\n",
    "\n",
    "sort_array2d_axis0 = np.sort(array2d, axis=0)\n",
    "print('로우 방향으로 정렬:\\n', sort_array2d_axis0)\n",
    "\n",
    "sort_array2d_axis1 = np.sort(array2d, axis=1)\n",
    "print('컬럼 방향으로 정렬:\\n', sort_array2d_axis1)"
   ]
  },
  {
   "attachments": {},
   "cell_type": "markdown",
   "metadata": {
    "id": "qPAfaFFuF9vl"
   },
   "source": [
    "* 정렬 행렬의 인덱스 반환"
   ]
  },
  {
   "cell_type": "code",
   "execution_count": null,
   "metadata": {
    "colab": {
     "base_uri": "https://localhost:8080/"
    },
    "executionInfo": {
     "elapsed": 353,
     "status": "ok",
     "timestamp": 1687151948460,
     "user": {
      "displayName": "남현경_3260",
      "userId": "14495842827741338771"
     },
     "user_tz": -540
    },
    "id": "5PLitQ3oFcna",
    "outputId": "7385bf61-a552-48ee-e41b-f6d210e79ad5"
   },
   "outputs": [],
   "source": [
    "org_array = np.array([ 3, 1, 9, 5])\n",
    "sort_indices = np.argsort(org_array)\n",
    "print(type(sort_indices))\n",
    "print('행렬 정렬 시 원본 행렬의 인덱스:', sort_indices)"
   ]
  },
  {
   "cell_type": "code",
   "execution_count": null,
   "metadata": {
    "colab": {
     "base_uri": "https://localhost:8080/"
    },
    "executionInfo": {
     "elapsed": 497,
     "status": "ok",
     "timestamp": 1687151950743,
     "user": {
      "displayName": "남현경_3260",
      "userId": "14495842827741338771"
     },
     "user_tz": -540
    },
    "id": "iylY5IOjF695",
    "outputId": "5cb55383-7731-4497-a078-f17cb662a663"
   },
   "outputs": [],
   "source": [
    "org_array = np.array([ 3, 1, 9, 5])\n",
    "sort_indices_desc = np.argsort(org_array)[::-1]\n",
    "print('행렬 내림차순 정렬 시 원본 행렬의 인덱스:', sort_indices_desc)"
   ]
  },
  {
   "attachments": {},
   "cell_type": "markdown",
   "metadata": {
    "id": "YecCf1jlF_QN"
   },
   "source": [
    "# ***NumPy sort() PRACTICE***"
   ]
  },
  {
   "cell_type": "code",
   "execution_count": null,
   "metadata": {
    "colab": {
     "base_uri": "https://localhost:8080/"
    },
    "executionInfo": {
     "elapsed": 297,
     "status": "ok",
     "timestamp": 1687152094596,
     "user": {
      "displayName": "남현경_3260",
      "userId": "14495842827741338771"
     },
     "user_tz": -540
    },
    "id": "Afh93Z9YF7fm",
    "outputId": "c17febd3-c4e5-4769-d494-3cad89f9eabe"
   },
   "outputs": [],
   "source": [
    "import numpy as np\n",
    "\n",
    "name_array = np.array(['John', 'Mike', 'Sarah', 'Kate', 'Samuel'])\n",
    "score_array= np.array([78, 95, 84, 98, 88])\n",
    "\n",
    "'''practice\n",
    "[output]\n",
    "\n",
    "성적 오름차순 정렬 시 score_array의 인덱스: [0 2 4 1 3]\n",
    "성적 오름차순으로 name_array의 이름 출력: ['John' 'Sarah' 'Samuel' 'Mike' 'Kate']\n",
    "\n",
    "'''"
   ]
  },
  {
   "attachments": {},
   "cell_type": "markdown",
   "metadata": {
    "id": "Q6Y2sBa4GqyC"
   },
   "source": [
    "## 선형대수 연산 – 행렬 내적과 전치 행렬 구하기\n",
    "* 행렬 내적"
   ]
  },
  {
   "cell_type": "code",
   "execution_count": null,
   "metadata": {
    "colab": {
     "base_uri": "https://localhost:8080/"
    },
    "executionInfo": {
     "elapsed": 291,
     "status": "ok",
     "timestamp": 1687152208902,
     "user": {
      "displayName": "남현경_3260",
      "userId": "14495842827741338771"
     },
     "user_tz": -540
    },
    "id": "NrHY1ryYGeqj",
    "outputId": "69f820a8-6131-479c-e685-b6317e3ebacf"
   },
   "outputs": [],
   "source": [
    "A = np.array([[1, 2, 3],\n",
    "              [4, 5, 6]])\n",
    "B = np.array([[7, 8],\n",
    "              [9, 10],\n",
    "              [11, 12]])\n",
    "print(A.shape)\n",
    "print(B.shape)\n",
    "dot_product = np.dot(A, B)\n",
    "\n",
    "print('행렬 내적 결과:\\n', dot_product)"
   ]
  },
  {
   "attachments": {},
   "cell_type": "markdown",
   "metadata": {
    "id": "CkuiYRNvGy1x"
   },
   "source": [
    "* 전치 행렬"
   ]
  },
  {
   "cell_type": "code",
   "execution_count": null,
   "metadata": {
    "colab": {
     "base_uri": "https://localhost:8080/"
    },
    "executionInfo": {
     "elapsed": 389,
     "status": "ok",
     "timestamp": 1687152174868,
     "user": {
      "displayName": "남현경_3260",
      "userId": "14495842827741338771"
     },
     "user_tz": -540
    },
    "id": "_HzhRinfGwHG",
    "outputId": "51bd1549-e9ac-4fd7-a377-2c30c552f742"
   },
   "outputs": [],
   "source": [
    "A = np.array([[1, 2],\n",
    "              [3, 4]])\n",
    "transpose_mat = np.transpose(A)\n",
    "print('A의 전치 행렬:\\n', transpose_mat)"
   ]
  },
  {
   "attachments": {},
   "cell_type": "markdown",
   "metadata": {},
   "source": [
    "# Pandas"
   ]
  },
  {
   "cell_type": "code",
   "execution_count": null,
   "metadata": {
    "id": "Gs-F0RoaGyPg"
   },
   "outputs": [],
   "source": [
    "import pandas as pd\n",
    "\n",
    "data = {'Name': [\"John\", \"Anna\", \"Peter\", \"Linda\"],\n",
    "        'Location' : [\"New York\", \"Paris\", \"Berlin\", \"London\"],\n",
    "        'Age' : [24, 13, 53, 33]\n",
    "       }\n",
    "\n",
    "data_pandas = pd.DataFrame(data)\n",
    "\n",
    "data_pandas"
   ]
  },
  {
   "cell_type": "code",
   "execution_count": null,
   "metadata": {},
   "outputs": [],
   "source": [
    "# Age 열의 값이 30 이상인 모든 행을 선택합니다.\n",
    "data_pandas[data_pandas.Age > 30]"
   ]
  },
  {
   "attachments": {},
   "cell_type": "markdown",
   "metadata": {},
   "source": [
    "* DataFrame 데이터 삭제"
   ]
  },
  {
   "cell_type": "code",
   "execution_count": null,
   "metadata": {},
   "outputs": [],
   "source": [
    "data = {'Name': [\"John\", \"Anna\", \"Peter\", \"Linda\"],\n",
    "        'Location' : [\"New York\", \"Paris\", \"Berlin\", \"London\"],\n",
    "        'Age' : [24, 13, 53, 33]\n",
    "       }\n",
    "\n",
    "data_pandas = pd.DataFrame(data)"
   ]
  },
  {
   "cell_type": "code",
   "execution_count": null,
   "metadata": {},
   "outputs": [],
   "source": [
    "data_drop = data_pandas.drop('Age', axis = 1)\n",
    "data_drop"
   ]
  },
  {
   "attachments": {},
   "cell_type": "markdown",
   "metadata": {},
   "source": [
    "# DataFrame과 리스트, 딕셔너리, 넘파이 ndarray 상호 변환\n",
    "* numpy ndarray, list, dictionary를 DataFrame으로 변환하기"
   ]
  },
  {
   "cell_type": "code",
   "execution_count": null,
   "metadata": {},
   "outputs": [],
   "source": [
    "col_name1=['col1']\n",
    "list1 = [1, 2, 3]\n",
    "array1 = np.array(list1)\n",
    "print('array1 shape:', array1.shape )\n",
    "\n",
    "# 리스트를 이용해 DataFrame 생성.\n",
    "df_list1 = pd.DataFrame(list1, columns=col_name1)\n",
    "print('1차원 리스트로 만든 DataFrame:\\n', df_list1)\n",
    "\n",
    "# 넘파이 ndarray를 이용해 DataFrame 생성.\n",
    "df_array1 = pd.DataFrame(array1, columns=col_name1)\n",
    "print('1차원 ndarray로 만든 DataFrame:\\n', df_array1)"
   ]
  },
  {
   "cell_type": "code",
   "execution_count": null,
   "metadata": {},
   "outputs": [],
   "source": [
    "# 3개의 칼럼명이 필요함.\n",
    "col_name2=['col1', 'col2', 'col3']\n",
    "\n",
    "# 2행x3열 형태의 리스트와 ndarray 생성한 뒤 이를 DataFrame으로 변환.\n",
    "list2 = [[1, 2, 3],\n",
    "         [11, 12, 13]]\n",
    "array2 = np.array(list2)\n",
    "print('array2 shape:', array2.shape )\n",
    "df_list2 = pd.DataFrame(list2, columns=col_name2)\n",
    "print('2차원 리스트로 만든 DataFrame:\\n', df_list2)\n",
    "df_array2 = pd.DataFrame(array2, columns=col_name2)\n",
    "print('2차원 ndarray로 만든 DataFrame:\\n', df_array2)"
   ]
  },
  {
   "cell_type": "code",
   "execution_count": null,
   "metadata": {},
   "outputs": [],
   "source": [
    "# Key는 컬럼명으로 매핑, Value는 리스트 형(또는 ndarray)\n",
    "dict = {'col1':[1, 11], 'col2':[2, 22], 'col3':[3, 33]}\n",
    "df_dict = pd.DataFrame(dict)\n",
    "print('딕셔너리로 만든 DataFrame:\\n', df_dict)"
   ]
  },
  {
   "attachments": {},
   "cell_type": "markdown",
   "metadata": {},
   "source": [
    "* DataFrame을 넘파이 ndarray, 리스트, 딕셔너리로 변환하기"
   ]
  },
  {
   "cell_type": "code",
   "execution_count": null,
   "metadata": {},
   "outputs": [],
   "source": [
    "# DataFrame을 ndarray로 변환\n",
    "array3 = df_dict.values\n",
    "print('df_dict.values 타입:', type(array3), 'df_dict.values shape:', array3.shape)\n",
    "print(array3)"
   ]
  },
  {
   "cell_type": "code",
   "execution_count": null,
   "metadata": {},
   "outputs": [],
   "source": [
    "# DataFrame을 리스트로 변환\n",
    "list3 = df_dict.values.tolist()\n",
    "print('df_dict.values.tolist() 타입:', type(list3))\n",
    "print(list3)\n",
    "\n",
    "# DataFrame을 딕셔너리로 변환\n",
    "dict3 = df_dict.to_dict('list')\n",
    "print('\\n df_dict.to_dict() 타입:', type(dict3))\n",
    "print(dict3)"
   ]
  },
  {
   "attachments": {},
   "cell_type": "markdown",
   "metadata": {},
   "source": []
  },
  {
   "cell_type": "code",
   "execution_count": null,
   "metadata": {},
   "outputs": [],
   "source": []
  }
 ],
 "metadata": {
  "colab": {
   "authorship_tag": "ABX9TyN5kktBRQLFYwxhKO9FJ8p9",
   "provenance": []
  },
  "kernelspec": {
   "display_name": "Python 3",
   "name": "python3"
  },
  "language_info": {
   "codemirror_mode": {
    "name": "ipython",
    "version": 3
   },
   "file_extension": ".py",
   "mimetype": "text/x-python",
   "name": "python",
   "nbconvert_exporter": "python",
   "pygments_lexer": "ipython3",
   "version": "3.11.3"
  }
 },
 "nbformat": 4,
 "nbformat_minor": 0
}
